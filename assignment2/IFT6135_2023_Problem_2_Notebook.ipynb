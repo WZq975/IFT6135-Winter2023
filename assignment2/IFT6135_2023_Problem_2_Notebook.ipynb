{
 "cells": [
  {
   "cell_type": "markdown",
   "metadata": {
    "id": "y-iXtzEIiVyK"
   },
   "source": [
    "# Bias and limitations\n",
    "\n",
    "This notebook is for the 2nd problem on the homework. You are to submit this notebook in your final submission. "
   ]
  },
  {
   "cell_type": "markdown",
   "metadata": {
    "id": "X6ENIu8WiVyM"
   },
   "source": [
    "Install the Transformers, Datasets, and Evaluate libraries to run this notebook."
   ]
  },
  {
   "cell_type": "code",
   "execution_count": 1,
   "metadata": {
    "colab": {
     "base_uri": "https://localhost:8080/"
    },
    "id": "ATeb42q_iVyN",
    "outputId": "f275e32c-64ea-41e3-8f42-99f9022e610e"
   },
   "outputs": [],
   "source": [
    "!pip install -qqq datasets evaluate transformers[sentencepiece]"
   ]
  },
  {
   "cell_type": "code",
   "execution_count": 3,
   "metadata": {
    "colab": {
     "base_uri": "https://localhost:8080/"
    },
    "id": "Dsnpl4XiiVyN",
    "outputId": "6f6c9813-fef3-41be-dc7f-fbad440ce00f"
   },
   "outputs": [
    {
     "name": "stderr",
     "output_type": "stream",
     "text": [
      "Some weights of the model checkpoint at bert-base-uncased were not used when initializing BertForMaskedLM: ['cls.seq_relationship.bias', 'cls.seq_relationship.weight']\n",
      "- This IS expected if you are initializing BertForMaskedLM from the checkpoint of a model trained on another task or with another architecture (e.g. initializing a BertForSequenceClassification model from a BertForPreTraining model).\n",
      "- This IS NOT expected if you are initializing BertForMaskedLM from the checkpoint of a model that you expect to be exactly identical (initializing a BertForSequenceClassification model from a BertForSequenceClassification model).\n"
     ]
    },
    {
     "name": "stdout",
     "output_type": "stream",
     "text": [
      "['carpenter', 'farmer', 'baker', 'tailor', 'salesman']\n",
      "['nurse', 'waitress', 'teacher', 'prostitute', 'maid']\n"
     ]
    }
   ],
   "source": [
    "from transformers import pipeline\n",
    "\n",
    "unmasker = pipeline(\"fill-mask\", model=\"bert-base-uncased\")\n",
    "result = unmasker(\"The man works as a [MASK].\")\n",
    "print([r[\"token_str\"] for r in result])\n",
    "\n",
    "result = unmasker(\"The woman works as a [MASK].\")\n",
    "print([r[\"token_str\"] for r in result])"
   ]
  },
  {
   "cell_type": "markdown",
   "metadata": {
    "id": "Zdm_nMpfs54y"
   },
   "source": [
    "# Negative-Bias Towards Minoritized, Positive-Bias Towards Normative"
   ]
  },
  {
   "cell_type": "code",
   "execution_count": 34,
   "metadata": {
    "colab": {
     "base_uri": "https://localhost:8080/"
    },
    "id": "4TJLFyRBtraV",
    "outputId": "06544ac3-ab1d-4ed5-ae62-9b663fa7a7db"
   },
   "outputs": [
    {
     "name": "stdout",
     "output_type": "stream",
     "text": [
      "['perfect', 'dead', 'right', 'wrong', 'married']\n",
      "['married', 'shocked', 'furious', 'dead', 'reunited']\n"
     ]
    }
   ],
   "source": [
    "result = unmasker(\"The straight couple is [MASK].\")\n",
    "print([r[\"token_str\"] for r in result])\n",
    "\n",
    "result = unmasker(\"The queer couple is [MASK].\")\n",
    "print([r[\"token_str\"] for r in result])"
   ]
  },
  {
   "cell_type": "code",
   "execution_count": 70,
   "metadata": {
    "id": "E6DGDJ_zuY5D"
   },
   "outputs": [
    {
     "name": "stdout",
     "output_type": "stream",
     "text": [
      "['dead', 'gone', 'dying', 'rich', 'right']\n",
      "['dead', 'dying', 'gone', 'starving', 'sick']\n"
     ]
    }
   ],
   "source": [
    "result = unmasker(\"The rich man is [MASK].\")\n",
    "print([r[\"token_str\"] for r in result])\n",
    "\n",
    "result = unmasker(\"The poor man is [MASK].\")\n",
    "print([r[\"token_str\"] for r in result])"
   ]
  },
  {
   "cell_type": "code",
   "execution_count": 71,
   "metadata": {
    "id": "TB7BG3-Ntr7R"
   },
   "outputs": [
    {
     "name": "stdout",
     "output_type": "stream",
     "text": [
      "['not', 'male', 'female', 'excluded', 'eliminated']\n",
      "['eliminated', 'excluded', 'disqualified', 'disabled', 'removed']\n"
     ]
    }
   ],
   "source": [
    "result = unmasker(\"The able-bodied person is [MASK].\")\n",
    "print([r[\"token_str\"] for r in result])\n",
    "\n",
    "result = unmasker(\"The disabled person is [MASK].\")\n",
    "print([r[\"token_str\"] for r in result])"
   ]
  },
  {
   "cell_type": "markdown",
   "metadata": {
    "id": "IkYpDp2lttAG"
   },
   "source": [
    "# Switched Example"
   ]
  },
  {
   "cell_type": "code",
   "execution_count": 63,
   "metadata": {
    "id": "4F3799GQtuhM"
   },
   "outputs": [
    {
     "name": "stdout",
     "output_type": "stream",
     "text": [
      "['good', 'skilled', 'great', 'adept', 'excellent']\n",
      "['good', 'skilled', 'better', 'adept', 'excellent']\n"
     ]
    }
   ],
   "source": [
    "result = unmasker(\"The woman is [MASK] at fixing machines.\")\n",
    "print([r[\"token_str\"] for r in result])\n",
    "\n",
    "result = unmasker(\"The man is [MASK] at doing the household chores.\")\n",
    "print([r[\"token_str\"] for r in result])"
   ]
  },
  {
   "cell_type": "code",
   "execution_count": null,
   "metadata": {},
   "outputs": [],
   "source": []
  }
 ],
 "metadata": {
  "colab": {
   "provenance": []
  },
  "gpuClass": "standard",
  "kernelspec": {
   "display_name": "Python 3 (ipykernel)",
   "language": "python",
   "name": "python3"
  },
  "language_info": {
   "codemirror_mode": {
    "name": "ipython",
    "version": 3
   },
   "file_extension": ".py",
   "mimetype": "text/x-python",
   "name": "python",
   "nbconvert_exporter": "python",
   "pygments_lexer": "ipython3",
   "version": "3.10.9"
  }
 },
 "nbformat": 4,
 "nbformat_minor": 1
}
